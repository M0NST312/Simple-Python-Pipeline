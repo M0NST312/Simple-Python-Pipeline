{
 "cells": [
  {
   "cell_type": "code",
   "execution_count": 1,
   "id": "7ef4168d",
   "metadata": {},
   "outputs": [],
   "source": [
    "import os\n",
    "import pandas as pd\n",
    "import numpy as np\n",
    "import re"
   ]
  },
  {
   "cell_type": "code",
   "execution_count": 2,
   "id": "a9c28b87",
   "metadata": {},
   "outputs": [],
   "source": [
    "# Read data into a dataframe (Master File)\n",
    "df_master = pd.read_excel(\"\")"
   ]
  },
  {
   "cell_type": "code",
   "execution_count": 3,
   "id": "e50b211e",
   "metadata": {},
   "outputs": [],
   "source": [
    "# Folder Path\n",
    "folder = \"\"\n",
    "\n",
    "# Processed Files Folder\n",
    "processed = \"\"\n",
    "\n",
    "# Error Files Folder\n",
    "error = \"\""
   ]
  },
  {
   "cell_type": "code",
   "execution_count": 9,
   "id": "de6016e2",
   "metadata": {},
   "outputs": [
    {
     "name": "stdout",
     "output_type": "stream",
     "text": [
      "File read into dataframe\n",
      "Index(['DATE', 'TIN', 'SUPPLIER NAME', 'TAX INVOICE NUMBER', 'VAT',\n",
      "       'GROSS / INVOICE AMOUNT', 'PRIMARY TIN'],\n",
      "      dtype='object')\n",
      "Transforming File 1.........\n",
      "DONE\n",
      "NEXT.........\n",
      "\n",
      "ERROR READING FILE\n",
      "Moving File to error folder......\n",
      "Moved\n",
      "NEXT.......\n",
      "\n",
      "File read into dataframe\n",
      "File read into dataframe\n"
     ]
    },
    {
     "name": "stderr",
     "output_type": "stream",
     "text": [
      "C:\\Users\\vkhumalo\\AppData\\Local\\Temp\\ipykernel_7792\\3126995025.py:40: FutureWarning: Index.__or__ operating as a set operation is deprecated, in the future this will be a logical operation matching Series.__or__.  Use index.union(other) instead.\n",
      "  amount = df.filter(like='invoice amount').columns | df.filter(like='gross').columns\n",
      "C:\\Users\\vkhumalo\\AppData\\Local\\Temp\\ipykernel_7792\\3126995025.py:40: FutureWarning: Index.__or__ operating as a set operation is deprecated, in the future this will be a logical operation matching Series.__or__.  Use index.union(other) instead.\n",
      "  amount = df.filter(like='invoice amount').columns | df.filter(like='gross').columns\n"
     ]
    },
    {
     "name": "stdout",
     "output_type": "stream",
     "text": [
      "Index(['DATE', 'TIN', 'CUSTOMER NAME', 'TAX INVOICE NUMBER', 'VAT',\n",
      "       'GROSS / INVOICE AMOUNT'],\n",
      "      dtype='object')\n",
      "Transforming File 3.........\n",
      "ERROR CLEANING DATAFRAME\n",
      "Moving File to error folder......\n",
      "Moved\n",
      "NEXT.......\n",
      "\n"
     ]
    },
    {
     "name": "stderr",
     "output_type": "stream",
     "text": [
      "C:\\ProgramData\\Anaconda3\\lib\\site-packages\\openpyxl\\worksheet\\header_footer.py:48: UserWarning: Cannot parse header or footer so it will be ignored\n",
      "  warn(\"\"\"Cannot parse header or footer so it will be ignored\"\"\")\n",
      "C:\\Users\\vkhumalo\\AppData\\Local\\Temp\\ipykernel_7792\\3126995025.py:40: FutureWarning: Index.__or__ operating as a set operation is deprecated, in the future this will be a logical operation matching Series.__or__.  Use index.union(other) instead.\n",
      "  amount = df.filter(like='invoice amount').columns | df.filter(like='gross').columns\n"
     ]
    },
    {
     "name": "stdout",
     "output_type": "stream",
     "text": [
      "File read into dataframe\n",
      "Index(['ZERO RATED SUPPLIES - PURCHASES', 'UNNAMED: 1', 'UNNAMED: 2',\n",
      "       'UNNAMED: 3', 'UNNAMED: 4', 'UNNAMED: 5', 'UNNAMED: 6', 'UNNAMED: 7',\n",
      "       'UNNAMED: 8', 'UNNAMED: 9', 'UNNAMED: 10', 'UNNAMED: 11',\n",
      "       'UNNAMED: 12'],\n",
      "      dtype='object')\n",
      "Transforming File 4.........\n",
      "ERROR CLEANING DATAFRAME\n",
      "Moving File to error folder......\n",
      "Moved\n",
      "NEXT.......\n",
      "\n"
     ]
    },
    {
     "name": "stderr",
     "output_type": "stream",
     "text": [
      "C:\\ProgramData\\Anaconda3\\lib\\site-packages\\openpyxl\\worksheet\\header_footer.py:48: UserWarning: Cannot parse header or footer so it will be ignored\n",
      "  warn(\"\"\"Cannot parse header or footer so it will be ignored\"\"\")\n",
      "C:\\Users\\vkhumalo\\AppData\\Local\\Temp\\ipykernel_7792\\3126995025.py:40: FutureWarning: Index.__or__ operating as a set operation is deprecated, in the future this will be a logical operation matching Series.__or__.  Use index.union(other) instead.\n",
      "  amount = df.filter(like='invoice amount').columns | df.filter(like='gross').columns\n"
     ]
    },
    {
     "name": "stdout",
     "output_type": "stream",
     "text": [
      "File read into dataframe\n",
      "Index(['ZERO RATED SUPPLIES - PURCHASES', 'UNNAMED: 1', 'UNNAMED: 2',\n",
      "       'UNNAMED: 3', 'UNNAMED: 4', 'UNNAMED: 5', 'UNNAMED: 6', 'UNNAMED: 7',\n",
      "       'UNNAMED: 8', 'UNNAMED: 9', 'UNNAMED: 10', 'UNNAMED: 11',\n",
      "       'UNNAMED: 12'],\n",
      "      dtype='object')\n",
      "Transforming File 5.........\n",
      "ERROR CLEANING DATAFRAME\n",
      "Moving File to error folder......\n",
      "Moved\n",
      "NEXT.......\n",
      "\n"
     ]
    },
    {
     "name": "stderr",
     "output_type": "stream",
     "text": [
      "C:\\ProgramData\\Anaconda3\\lib\\site-packages\\openpyxl\\worksheet\\header_footer.py:48: UserWarning: Cannot parse header or footer so it will be ignored\n",
      "  warn(\"\"\"Cannot parse header or footer so it will be ignored\"\"\")\n",
      "C:\\Users\\vkhumalo\\AppData\\Local\\Temp\\ipykernel_7792\\3126995025.py:40: FutureWarning: Index.__or__ operating as a set operation is deprecated, in the future this will be a logical operation matching Series.__or__.  Use index.union(other) instead.\n",
      "  amount = df.filter(like='invoice amount').columns | df.filter(like='gross').columns\n"
     ]
    },
    {
     "name": "stdout",
     "output_type": "stream",
     "text": [
      "File read into dataframe\n",
      "Index(['ZERO RATED SUPPLIES - PURCHASES', 'UNNAMED: 1', 'UNNAMED: 2',\n",
      "       'UNNAMED: 3', 'UNNAMED: 4', 'UNNAMED: 5', 'UNNAMED: 6', 'UNNAMED: 7',\n",
      "       'UNNAMED: 8', 'UNNAMED: 9', 'UNNAMED: 10', 'UNNAMED: 11',\n",
      "       'UNNAMED: 12'],\n",
      "      dtype='object')\n",
      "Transforming File 6.........\n",
      "ERROR CLEANING DATAFRAME\n",
      "Moving File to error folder......\n",
      "Moved\n",
      "NEXT.......\n",
      "\n",
      "ERROR READING FILE\n",
      "Moving File to error folder......\n",
      "Moved\n",
      "NEXT.......\n",
      "\n",
      "File read into dataframe\n",
      "ERROR READING FILE\n",
      "Moving File to error folder......\n",
      "Moved\n",
      "NEXT.......\n",
      "\n",
      "File read into dataframe\n",
      "ERROR READING FILE\n",
      "Moving File to error folder......\n",
      "Moved\n",
      "NEXT.......\n",
      "\n",
      "File read into dataframe\n",
      "ERROR READING FILE\n",
      "Moving File to error folder......\n",
      "Moved\n",
      "NEXT.......\n",
      "\n",
      "File read into dataframe\n",
      "ERROR READING FILE\n",
      "Moving File to error folder......\n",
      "Moved\n",
      "NEXT.......\n",
      "\n",
      "File read into dataframe\n",
      "File read into dataframe\n",
      "Index(['INPUT VAT - JAN. 2023', 'UNNAMED: 1', 'UNNAMED: 2', 'UNNAMED: 3',\n",
      "       'UNNAMED: 4', 'UNNAMED: 5'],\n",
      "      dtype='object')\n",
      "Transforming File 12.........\n",
      "ERROR CLEANING DATAFRAME\n",
      "Moving File to error folder......\n",
      "Moved\n",
      "NEXT.......\n",
      "\n",
      "File read into dataframe\n",
      "Index(['DATE', 'TIN', 'SUPPLIER NAME', 'TAX INVOICE NUMBER', 'VAT',\n",
      "       'GROSS / INVOICE AMOUNT'],\n",
      "      dtype='object')\n",
      "Transforming File 13.........\n",
      "DONE\n",
      "NEXT.........\n",
      "\n"
     ]
    },
    {
     "name": "stderr",
     "output_type": "stream",
     "text": [
      "C:\\Users\\vkhumalo\\AppData\\Local\\Temp\\ipykernel_7792\\3126995025.py:40: FutureWarning: Index.__or__ operating as a set operation is deprecated, in the future this will be a logical operation matching Series.__or__.  Use index.union(other) instead.\n",
      "  amount = df.filter(like='invoice amount').columns | df.filter(like='gross').columns\n",
      "C:\\Users\\vkhumalo\\AppData\\Local\\Temp\\ipykernel_7792\\3126995025.py:40: FutureWarning: Index.__or__ operating as a set operation is deprecated, in the future this will be a logical operation matching Series.__or__.  Use index.union(other) instead.\n",
      "  amount = df.filter(like='invoice amount').columns | df.filter(like='gross').columns\n",
      "C:\\ProgramData\\Anaconda3\\lib\\site-packages\\openpyxl\\worksheet\\_reader.py:312: UserWarning: Data Validation extension is not supported and will be removed\n",
      "  warn(msg)\n",
      "C:\\Users\\vkhumalo\\AppData\\Local\\Temp\\ipykernel_7792\\3126995025.py:40: FutureWarning: Index.__or__ operating as a set operation is deprecated, in the future this will be a logical operation matching Series.__or__.  Use index.union(other) instead.\n",
      "  amount = df.filter(like='invoice amount').columns | df.filter(like='gross').columns\n"
     ]
    },
    {
     "name": "stdout",
     "output_type": "stream",
     "text": [
      "File read into dataframe\n",
      "Index(['RESOLUTIONS & MANAGEMENT CONSULTANCY (PTY) LTD', 'UNNAMED: 1',\n",
      "       'UNNAMED: 2', 'UNNAMED: 3', 'UNNAMED: 4', 'UNNAMED: 5', 'UNNAMED: 6',\n",
      "       'UNNAMED: 7'],\n",
      "      dtype='object')\n",
      "Transforming File 14.........\n",
      "ERROR CLEANING DATAFRAME\n",
      "Moving File to error folder......\n",
      "Moved\n",
      "NEXT.......\n",
      "\n",
      "ERROR READING FILE\n",
      "Moving File to error folder......\n",
      "Moved\n",
      "NEXT.......\n",
      "\n",
      "File read into dataframe\n",
      "ERROR READING FILE\n",
      "Moving File to error folder......\n",
      "Moved\n",
      "NEXT.......\n",
      "\n",
      "File read into dataframe\n",
      "ERROR READING FILE\n",
      "Moving File to error folder......\n",
      "Moved\n",
      "NEXT.......\n",
      "\n",
      "File read into dataframe\n",
      "File read into dataframe\n",
      "Index(['UNNAMED: 0', 'ZERO RATED SUPPLIES RECEIVED - PURCHASES', 'UNNAMED: 2',\n",
      "       'UNNAMED: 3', 'UNNAMED: 4', 'UNNAMED: 5', 'UNNAMED: 6', 'UNNAMED: 7'],\n",
      "      dtype='object')\n",
      "Transforming File 18.........\n",
      "ERROR CLEANING DATAFRAME\n",
      "Moving File to error folder......\n",
      "Moved\n",
      "NEXT.......\n",
      "\n"
     ]
    },
    {
     "name": "stderr",
     "output_type": "stream",
     "text": [
      "C:\\Users\\vkhumalo\\AppData\\Local\\Temp\\ipykernel_7792\\3126995025.py:40: FutureWarning: Index.__or__ operating as a set operation is deprecated, in the future this will be a logical operation matching Series.__or__.  Use index.union(other) instead.\n",
      "  amount = df.filter(like='invoice amount').columns | df.filter(like='gross').columns\n",
      "C:\\ProgramData\\Anaconda3\\lib\\site-packages\\openpyxl\\worksheet\\_reader.py:312: UserWarning: Data Validation extension is not supported and will be removed\n",
      "  warn(msg)\n",
      "C:\\Users\\vkhumalo\\AppData\\Local\\Temp\\ipykernel_7792\\3126995025.py:40: FutureWarning: Index.__or__ operating as a set operation is deprecated, in the future this will be a logical operation matching Series.__or__.  Use index.union(other) instead.\n",
      "  amount = df.filter(like='invoice amount').columns | df.filter(like='gross').columns\n"
     ]
    },
    {
     "name": "stdout",
     "output_type": "stream",
     "text": [
      "File read into dataframe\n",
      "Index(['DATE', 'TIN', 'SUPPLIER NAME', 'VAT', 'GROSS / INVOICE AMOUNT'], dtype='object')\n",
      "Transforming File 19.........\n",
      "ERROR CLEANING DATAFRAME\n",
      "Moving File to error folder......\n",
      "Moved\n",
      "NEXT.......\n",
      "\n",
      "File read into dataframe\n",
      "Index(['UNNAMED: 0', 'ZERO RATED SUPPLIES RECEIVED - PURCHASES', 'UNNAMED: 2',\n",
      "       'UNNAMED: 3', 'UNNAMED: 4', 'UNNAMED: 5', 'UNNAMED: 6', 'UNNAMED: 7'],\n",
      "      dtype='object')\n",
      "Transforming File 20.........\n",
      "ERROR CLEANING DATAFRAME\n",
      "Moving File to error folder......\n",
      "Moved\n",
      "NEXT.......\n",
      "\n"
     ]
    },
    {
     "name": "stderr",
     "output_type": "stream",
     "text": [
      "C:\\Users\\vkhumalo\\AppData\\Local\\Temp\\ipykernel_7792\\3126995025.py:40: FutureWarning: Index.__or__ operating as a set operation is deprecated, in the future this will be a logical operation matching Series.__or__.  Use index.union(other) instead.\n",
      "  amount = df.filter(like='invoice amount').columns | df.filter(like='gross').columns\n"
     ]
    },
    {
     "name": "stdout",
     "output_type": "stream",
     "text": [
      "File read into dataframe\n",
      "Index(['UNNAMED: 0', 'ZERO RATED SUPPLIES RECEIVED - PURCHASES', 'UNNAMED: 2',\n",
      "       'UNNAMED: 3', 'UNNAMED: 4', 'UNNAMED: 5', 'UNNAMED: 6', 'UNNAMED: 7'],\n",
      "      dtype='object')\n",
      "Transforming File 21.........\n",
      "ERROR CLEANING DATAFRAME\n",
      "Moving File to error folder......\n",
      "Moved\n",
      "NEXT.......\n",
      "\n",
      "File read into dataframe\n",
      "Index(['DATE', 'TIN', 'SUPPLIER NAME', 'TAX INVOICE NUMBER', 'VAT',\n",
      "       'GROSS / INVOICE AMOUNT'],\n",
      "      dtype='object')\n",
      "Transforming File 22.........\n",
      "DONE\n",
      "NEXT.........\n",
      "\n"
     ]
    },
    {
     "name": "stderr",
     "output_type": "stream",
     "text": [
      "C:\\Users\\vkhumalo\\AppData\\Local\\Temp\\ipykernel_7792\\3126995025.py:40: FutureWarning: Index.__or__ operating as a set operation is deprecated, in the future this will be a logical operation matching Series.__or__.  Use index.union(other) instead.\n",
      "  amount = df.filter(like='invoice amount').columns | df.filter(like='gross').columns\n",
      "C:\\Users\\vkhumalo\\AppData\\Local\\Temp\\ipykernel_7792\\3126995025.py:40: FutureWarning: Index.__or__ operating as a set operation is deprecated, in the future this will be a logical operation matching Series.__or__.  Use index.union(other) instead.\n",
      "  amount = df.filter(like='invoice amount').columns | df.filter(like='gross').columns\n"
     ]
    },
    {
     "name": "stdout",
     "output_type": "stream",
     "text": [
      "File read into dataframe\n",
      "Index(['UNNAMED: 0', 'ZERO RATED SUPPLIES RECEIVED - PURCHASES', 'UNNAMED: 2',\n",
      "       'UNNAMED: 3', 'UNNAMED: 4', 'UNNAMED: 5', 'UNNAMED: 6', 'UNNAMED: 7'],\n",
      "      dtype='object')\n",
      "Transforming File 23.........\n",
      "ERROR CLEANING DATAFRAME\n",
      "Moving File to error folder......\n",
      "Moved\n",
      "NEXT.......\n",
      "\n"
     ]
    },
    {
     "name": "stderr",
     "output_type": "stream",
     "text": [
      "C:\\Users\\vkhumalo\\AppData\\Local\\Temp\\ipykernel_7792\\3126995025.py:40: FutureWarning: Index.__or__ operating as a set operation is deprecated, in the future this will be a logical operation matching Series.__or__.  Use index.union(other) instead.\n",
      "  amount = df.filter(like='invoice amount').columns | df.filter(like='gross').columns\n"
     ]
    },
    {
     "name": "stdout",
     "output_type": "stream",
     "text": [
      "ERROR READING FILE\n",
      "Moving File to error folder......\n",
      "Moved\n",
      "NEXT.......\n",
      "\n",
      "File read into dataframe\n",
      "File read into dataframe\n",
      "Index(['UNNAMED: 0', 'ZERO RATED SUPPLIES RECEIVED - PURCHASES', 'UNNAMED: 2',\n",
      "       'UNNAMED: 3', 'UNNAMED: 4', 'UNNAMED: 5', 'UNNAMED: 6', 'UNNAMED: 7'],\n",
      "      dtype='object')\n",
      "Transforming File 25.........\n",
      "ERROR CLEANING DATAFRAME\n",
      "Moving File to error folder......\n",
      "Moved\n",
      "NEXT.......\n",
      "\n"
     ]
    },
    {
     "name": "stderr",
     "output_type": "stream",
     "text": [
      "C:\\Users\\vkhumalo\\AppData\\Local\\Temp\\ipykernel_7792\\3126995025.py:40: FutureWarning: Index.__or__ operating as a set operation is deprecated, in the future this will be a logical operation matching Series.__or__.  Use index.union(other) instead.\n",
      "  amount = df.filter(like='invoice amount').columns | df.filter(like='gross').columns\n"
     ]
    },
    {
     "name": "stdout",
     "output_type": "stream",
     "text": [
      "File read into dataframe\n",
      "Index(['UNNAMED: 0', 'ZERO RATED SUPPLIES RECEIVED - PURCHASES', 'UNNAMED: 2',\n",
      "       'UNNAMED: 3', 'UNNAMED: 4', 'UNNAMED: 5', 'UNNAMED: 6', 'UNNAMED: 7',\n",
      "       'UNNAMED: 8'],\n",
      "      dtype='object')\n",
      "Transforming File 26.........\n",
      "ERROR CLEANING DATAFRAME\n",
      "Moving File to error folder......\n",
      "Moved\n",
      "NEXT.......\n",
      "\n",
      "File read into dataframe\n",
      "Index(['DATE', 'TIN', 'SUPPLIER NAME', 'TAX INVOICE NUMBER', 'VAT',\n",
      "       'GROSS / INVOICE AMOUNT', 'STANDARD SUPPLIES @ 15%'],\n",
      "      dtype='object')\n",
      "Transforming File 27.........\n",
      "DONE\n",
      "NEXT.........\n",
      "\n"
     ]
    },
    {
     "name": "stderr",
     "output_type": "stream",
     "text": [
      "C:\\Users\\vkhumalo\\AppData\\Local\\Temp\\ipykernel_7792\\3126995025.py:40: FutureWarning: Index.__or__ operating as a set operation is deprecated, in the future this will be a logical operation matching Series.__or__.  Use index.union(other) instead.\n",
      "  amount = df.filter(like='invoice amount').columns | df.filter(like='gross').columns\n",
      "C:\\Users\\vkhumalo\\AppData\\Local\\Temp\\ipykernel_7792\\3126995025.py:40: FutureWarning: Index.__or__ operating as a set operation is deprecated, in the future this will be a logical operation matching Series.__or__.  Use index.union(other) instead.\n",
      "  amount = df.filter(like='invoice amount').columns | df.filter(like='gross').columns\n"
     ]
    },
    {
     "name": "stdout",
     "output_type": "stream",
     "text": [
      "File read into dataframe\n",
      "Index(['DATE', 'TIN', 'SUPPLIER NAME', 'TAX INVOICE NUMBER', 'VAT',\n",
      "       'GROSS / INVOICE AMOUNT', 'STANDARD SUPPLIES @ 15%'],\n",
      "      dtype='object')\n",
      "Transforming File 28.........\n",
      "DONE\n",
      "NEXT.........\n",
      "\n"
     ]
    },
    {
     "name": "stderr",
     "output_type": "stream",
     "text": [
      "C:\\Users\\vkhumalo\\AppData\\Local\\Temp\\ipykernel_7792\\3126995025.py:40: FutureWarning: Index.__or__ operating as a set operation is deprecated, in the future this will be a logical operation matching Series.__or__.  Use index.union(other) instead.\n",
      "  amount = df.filter(like='invoice amount').columns | df.filter(like='gross').columns\n"
     ]
    },
    {
     "name": "stdout",
     "output_type": "stream",
     "text": [
      "File read into dataframe\n",
      "Index(['UNNAMED: 0', 'ZERO RATED SUPPLIES RECEIVED - PURCHASES', 'UNNAMED: 2',\n",
      "       'UNNAMED: 3', 'UNNAMED: 4', 'UNNAMED: 5', 'UNNAMED: 6', 'UNNAMED: 7'],\n",
      "      dtype='object')\n",
      "Transforming File 29.........\n",
      "ERROR CLEANING DATAFRAME\n",
      "Moving File to error folder......\n",
      "Moved\n",
      "NEXT.......\n",
      "\n"
     ]
    },
    {
     "name": "stderr",
     "output_type": "stream",
     "text": [
      "C:\\Users\\vkhumalo\\AppData\\Local\\Temp\\ipykernel_7792\\3126995025.py:40: FutureWarning: Index.__or__ operating as a set operation is deprecated, in the future this will be a logical operation matching Series.__or__.  Use index.union(other) instead.\n",
      "  amount = df.filter(like='invoice amount').columns | df.filter(like='gross').columns\n"
     ]
    },
    {
     "name": "stdout",
     "output_type": "stream",
     "text": [
      "File read into dataframe\n",
      "Index(['DATE', 'TIN', 'CUSTOMER NAME', 'TAX INVOICE NUMBER',\n",
      "       'GROSS / INVOICE AMOUNT'],\n",
      "      dtype='object')\n",
      "Transforming File 30.........\n",
      "ERROR CLEANING DATAFRAME\n",
      "Moving File to error folder......\n",
      "Moved\n",
      "NEXT.......\n",
      "\n",
      "ALL FILES PROCESSED\n"
     ]
    },
    {
     "name": "stderr",
     "output_type": "stream",
     "text": [
      "C:\\ProgramData\\Anaconda3\\lib\\site-packages\\openpyxl\\worksheet\\_reader.py:312: UserWarning: Data Validation extension is not supported and will be removed\n",
      "  warn(msg)\n",
      "C:\\Users\\vkhumalo\\AppData\\Local\\Temp\\ipykernel_7792\\3126995025.py:40: FutureWarning: Index.__or__ operating as a set operation is deprecated, in the future this will be a logical operation matching Series.__or__.  Use index.union(other) instead.\n",
      "  amount = df.filter(like='invoice amount').columns | df.filter(like='gross').columns\n"
     ]
    }
   ],
   "source": [
    "files = []\n",
    "count = 1\n",
    "for file in os.listdir(folder):\n",
    "    file_path = os.path.join(folder, file)\n",
    "    if os.path.isfile(file_path):\n",
    "        \n",
    "        # Extract TIN from file name\n",
    "        TIN = re.search(r\"\\d{9}\", file).group()\n",
    "        \n",
    "        #Create an array of File Paths\n",
    "        files.append(file_path)\n",
    "        \n",
    "         # create an ExcelFile object\n",
    "        excel_file = pd.ExcelFile(file_path)\n",
    "        \n",
    "        # get a list of sheet names\n",
    "        sheet_names = excel_file.sheet_names\n",
    "        inputs = next(filter(lambda x: 'input' in x.lower(), sheet_names), \"None\")      \n",
    "        excel_file.close()\n",
    "        \n",
    "        try:\n",
    "            # Read files into a dataframe\n",
    "            df = pd.read_excel(file_path, sheet_name= inputs)\n",
    "        except: \n",
    "            try:\n",
    "                # Read files into a dataframe\n",
    "                df = pd.read_excel(file_path, sheet_name= inputs)\n",
    "            except:                \n",
    "                print(\"ERROR READING FILE\")\n",
    "                print(\"Moving File to error folder......\")\n",
    "                os.rename(file_path, error + os.path.basename(file_path))\n",
    "                print(\"Moved\")\n",
    "                print(\"NEXT.......\")\n",
    "                print(\"\")\n",
    "                count = count + 1\n",
    "                continue\n",
    "        finally:\n",
    "            print(\"File read into dataframe\")\n",
    "            \n",
    "        # Get column names\n",
    "        df.columns = df.columns.str.lower()\n",
    "        \n",
    "        # Select columns of interest\n",
    "        date = df.filter(like='date').columns\n",
    "        tin = df.filter(like='tin').columns\n",
    "        supplier = df.filter(like='supplier').columns\n",
    "        invoice = df.filter(like='tax invoice').columns\n",
    "        amount = df.filter(like='invoice amount').columns | df.filter(like='gross').columns\n",
    "        vat = df.filter(like='vat').columns\n",
    "        \n",
    "        # Rename columns\n",
    "        new_date = {col: col.replace(col, 'date') for col in date}\n",
    "        new_tin = {col: col.replace(col, 'tin') for col in tin}\n",
    "        new_supplier = {col: col.replace(col, 'supplier name') for col in supplier}\n",
    "        new_invoice = {col: col.replace(col, 'tax invoice number') for col in invoice}\n",
    "        new_amount = {col: col.replace(col, 'gross / invoice amount') for col in amount}\n",
    "        new_vat = {col: col.replace(col, 'vat') for col in vat}\n",
    "        \n",
    "        df = df.rename(columns=new_date)\n",
    "        #df = df.rename(columns=new_tin)\n",
    "        df = df.rename(columns=new_supplier)\n",
    "        df = df.rename(columns=new_invoice)\n",
    "        df = df.rename(columns=new_amount)\n",
    "        #df = df.rename(columns=new_vat)\n",
    "        \n",
    "        df.columns = df.columns.str.upper()\n",
    "        #print(df.columns)\n",
    "        '''\n",
    "         # Rename colmns with wrong different naming convention\n",
    "        if 'TAX INVOICE NUMBER/ REFERENCE' in df.columns:\n",
    "            df = df.rename(columns={'TAX INVOICE NUMBER/ REFERENCE': 'TAX INVOICE NUMBER'})\n",
    "        elif 'TAX INVOICE NUMBER / REFERENCE' in df.columns:\n",
    "            df = df.rename(columns={'TAX INVOICE NUMBER / REFERENCE' : 'TAX INVOICE NUMBER'})\n",
    "        elif 'TAX INVOICE NUMBER/REFERENCE' in df.columns:\n",
    "            df = df.rename(columns={'TAX INVOICE NUMBER/REFERENCE' : 'TAX INVOICE NUMBER'})\n",
    "        elif 'Tax Invoice Number' in df.columns:\n",
    "            df = df.rename(columns={'Tax Invoice Number' : 'TAX INVOICE NUMBER'})\n",
    "        '''\n",
    "        \n",
    "        # Count rows\n",
    "        rows = len(df.index)\n",
    "        \n",
    "        # Create an array of TINs using the number of rows and put it in a pandas column\n",
    "        print (f\"Transforming File {count}.........\" )\n",
    "        df[\"PRIMARY TIN\"] = np.repeat(TIN, rows)        \n",
    "        \n",
    "        # Remove Empty Rows\n",
    "        try:\n",
    "            df_clean = df[df[\"DATE\"].notnull() & df[\"SUPPLIER NAME\"].notnull() & df[\"TAX INVOICE NUMBER\"].notnull()]\n",
    "        except:\n",
    "            print(\"ERROR CLEANING DATAFRAME\")\n",
    "            print(\"Moving File to error folder......\")\n",
    "            os.rename(file_path, error + os.path.basename(file_path))\n",
    "            print(\"Moved\")\n",
    "            print(\"NEXT.......\")\n",
    "            print(\"\")\n",
    "            count = count + 1\n",
    "            continue\n",
    "        else:         \n",
    "            master_len = len(df_master.index)\n",
    "            if (int(master_len) < 500000):\n",
    "                #df_master = pd.concat([df_master, df_clean])\n",
    "                df_master = pd.concat([df_master, df_clean], axis=0, ignore_index=True)\n",
    "                #df_master = df_master.loc[:, ~df_master.columns.str.contains('^Unnamed')]\n",
    "                \n",
    "                # Move Transformed file to new folder\n",
    "                os.rename(file_path, processed + os.path.basename(file_path))\n",
    "                \n",
    "                print(\"DONE\")\n",
    "                print(\"NEXT.........\")\n",
    "                print(\"\")\n",
    "            else:\n",
    "                break;\n",
    "            \n",
    "            '''\n",
    "            #Export File\n",
    "            print (f\"Writing File {count}.........\" )\n",
    "            df.to_excel(file)\n",
    "            count = count + 1\n",
    "            '''\n",
    "            count = count + 1\n",
    "\n",
    "print(\"ALL FILES PROCESSED\")\n",
    "\n"
   ]
  },
  {
   "cell_type": "code",
   "execution_count": 10,
   "id": "42e8a33e",
   "metadata": {},
   "outputs": [
    {
     "name": "stdout",
     "output_type": "stream",
     "text": [
      "Writing Master File......\n",
      "FINISHED\n"
     ]
    }
   ],
   "source": [
    "# Export master df to excel\n",
    "print(\"Writing Master File......\")\n",
    "#df_master.to_excel(\"Master_4.xlsx\")\n",
    "df_master.to_csv(\"Master.csv\")\n",
    "print(\"FINISHED\")"
   ]
  },
  {
   "cell_type": "code",
   "execution_count": null,
   "id": "23d4a66a",
   "metadata": {},
   "outputs": [],
   "source": []
  }
 ],
 "metadata": {
  "kernelspec": {
   "display_name": "Python 3 (ipykernel)",
   "language": "python",
   "name": "python3"
  },
  "language_info": {
   "codemirror_mode": {
    "name": "ipython",
    "version": 3
   },
   "file_extension": ".py",
   "mimetype": "text/x-python",
   "name": "python",
   "nbconvert_exporter": "python",
   "pygments_lexer": "ipython3",
   "version": "3.9.12"
  }
 },
 "nbformat": 4,
 "nbformat_minor": 5
}
